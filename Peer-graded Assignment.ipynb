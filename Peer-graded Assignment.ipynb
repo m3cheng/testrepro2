{
    "cells": [
        {
            "metadata": {
                "collapsed": true
            },
            "cell_type": "markdown",
            "source": "# My Jupyter Notebook on IBM Watson Studio"
        },
        {
            "metadata": {},
            "cell_type": "markdown",
            "source": "**Mandy Cheng**  \nMy desired occupation will be a data scientist in Health Industry."
        },
        {
            "metadata": {},
            "cell_type": "markdown",
            "source": "_I am interested in data science because it is an emerging field and it will be an essential skill for many industries in the future.  I am also interested in uncovering new information from data collected_"
        },
        {
            "metadata": {},
            "cell_type": "markdown",
            "source": "### The code below will find out the minimum number in the provided list"
        },
        {
            "metadata": {},
            "cell_type": "code",
            "source": "list = [23, 16, 48, 9, 20]\nmin = list[0]\n\nfor x in list:\n    if x < min:\n        min = x\n        \nprint(\"The minimum number in the provided list is: \", min)",
            "execution_count": 6,
            "outputs": [
                {
                    "output_type": "stream",
                    "text": "The minimum number in the provided list is:  9\n",
                    "name": "stdout"
                }
            ]
        },
        {
            "metadata": {},
            "cell_type": "markdown",
            "source": "**IBM Watson Studio**  \n* Knowledge Catalog\n* Data Refinery\n* Modeler Flows\n* AutoAI\n* OpenScale\n\n**Hyperlink to Markdown cheatsheet:**  \n[Markdown cheatsheet](https://github.com/adam-p/markdown-here/wiki/Markdown-Cheatsheet)\n\n| **Feature** | **Difficulty Level** |\n|----------------|-------------------------|\n| Knowledge Catalog| low |\n| Data Refinery| medium |\n| Modeler Flows | high |\n| AutoAI | medium |\n| OpenScale | low |\n\n"
        },
        {
            "metadata": {},
            "cell_type": "code",
            "source": "",
            "execution_count": null,
            "outputs": []
        }
    ],
    "metadata": {
        "kernelspec": {
            "name": "python3",
            "display_name": "Python 3.10",
            "language": "python"
        },
        "language_info": {
            "name": "python",
            "version": "3.10.6",
            "mimetype": "text/x-python",
            "codemirror_mode": {
                "name": "ipython",
                "version": 3
            },
            "pygments_lexer": "ipython3",
            "nbconvert_exporter": "python",
            "file_extension": ".py"
        }
    },
    "nbformat": 4,
    "nbformat_minor": 1
}