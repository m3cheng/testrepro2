{
    "cells": [
        {
            "cell_type": "markdown",
            "metadata": {
                "collapsed": true
            },
            "source": "# My Jupyter Notebook on IBM Watson Studio"
        },
        {
            "cell_type": "markdown",
            "metadata": {},
            "source": "<b> Mandy Cheng </b><br>\nMy desired occupation will be a data scientist in Health Industry."
        },
        {
            "cell_type": "markdown",
            "metadata": {},
            "source": "<i> I am interested in data science because it is an emerging field and it will be an essential skill for many industries in the future.  I am also interested in uncovering new information from data collected</i>"
        },
        {
            "cell_type": "markdown",
            "metadata": {},
            "source": "### The code below will find out the minimum number in the provided list"
        },
        {
            "cell_type": "code",
            "execution_count": 6,
            "metadata": {},
            "outputs": [
                {
                    "name": "stdout",
                    "output_type": "stream",
                    "text": "The minimum number in the provided list is:  9\n"
                }
            ],
            "source": "list = [23, 16, 48, 9, 20]\nmin = list[0]\n\nfor x in list:\n    if x < min:\n        min = x\n        \nprint(\"The minimum number in the provided list is: \", min)"
        },
        {
            "cell_type": "markdown",
            "metadata": {},
            "source": "<ul><b>IBM Watson Studio</b>\n    <li>Knowledge Catalog</li>\n    <li>Data Refinery</li>\n    <li>Modeler Flows</li>\n    <li>AutoAI</li>\n    <li>OpenScale</li> \n</ul>\n\n| <b>Feature</b> | <b>Difficulty Level</b> |\n|----------------|-------------------------|\n| Knowledge Catalog| low |\n| Data Refinery| medium |\n| Modeler Flows | high |\n| AutoAI | medium |\n| OpenScale | low |\n\n<b>Hyperlink to this course: </b><a href = \"https://www.coursera.org/learn/open-source-tools-for-data-science/home/week/1\">Tools for Data Science</a>"
        },
        {
            "cell_type": "code",
            "execution_count": null,
            "metadata": {},
            "outputs": [],
            "source": ""
        }
    ],
    "metadata": {
        "kernelspec": {
            "display_name": "Python 3.10",
            "language": "python",
            "name": "python3"
        },
        "language_info": {
            "codemirror_mode": {
                "name": "ipython",
                "version": 3
            },
            "file_extension": ".py",
            "mimetype": "text/x-python",
            "name": "python",
            "nbconvert_exporter": "python",
            "pygments_lexer": "ipython3",
            "version": "3.10.6"
        }
    },
    "nbformat": 4,
    "nbformat_minor": 1
}